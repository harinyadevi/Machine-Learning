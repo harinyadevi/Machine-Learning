{
  "nbformat": 4,
  "nbformat_minor": 0,
  "metadata": {
    "colab": {
      "name": "Encoding.ipynb",
      "provenance": [],
      "collapsed_sections": [],
      "toc_visible": true
    },
    "kernelspec": {
      "name": "python3",
      "display_name": "Python 3"
    },
    "language_info": {
      "name": "python"
    }
  },
  "cells": [
    {
      "cell_type": "markdown",
      "metadata": {
        "id": "WB9YlYkJPCxG"
      },
      "source": [
        "## **Label Encoder**\n"
      ]
    },
    {
      "cell_type": "code",
      "metadata": {
        "id": "YThc_BmCIGUl"
      },
      "source": [
        "import numpy as np\n",
        "from sklearn import preprocessing\n",
        "encoder= preprocessing.LabelEncoder()"
      ],
      "execution_count": 1,
      "outputs": []
    },
    {
      "cell_type": "code",
      "metadata": {
        "id": "bVE-b7THIWXn"
      },
      "source": [
        "y=np.array([\"Apple\", \"apple\", \"apple\", \"orange\",\"orange\"])"
      ],
      "execution_count": 2,
      "outputs": []
    },
    {
      "cell_type": "code",
      "metadata": {
        "colab": {
          "base_uri": "https://localhost:8080/"
        },
        "id": "FX8T7enxKFcy",
        "outputId": "786c58d8-c83a-4e7a-96ee-31b82368a03e"
      },
      "source": [
        "yencode1=encoder.fit(y)\n",
        "list(yencode1.classes_)"
      ],
      "execution_count": 3,
      "outputs": [
        {
          "output_type": "execute_result",
          "data": {
            "text/plain": [
              "['Apple', 'apple', 'orange']"
            ]
          },
          "metadata": {},
          "execution_count": 3
        }
      ]
    },
    {
      "cell_type": "code",
      "metadata": {
        "id": "TKYpL8dCIYvH"
      },
      "source": [
        "yencode=encoder.fit_transform(y)"
      ],
      "execution_count": 4,
      "outputs": []
    },
    {
      "cell_type": "code",
      "metadata": {
        "colab": {
          "base_uri": "https://localhost:8080/"
        },
        "id": "ohNj1mPZJGe0",
        "outputId": "b36173a5-9355-4b3f-d4b5-e9256d2b54bc"
      },
      "source": [
        "print(yencode)\n"
      ],
      "execution_count": 5,
      "outputs": [
        {
          "output_type": "stream",
          "name": "stdout",
          "text": [
            "[0 1 1 2 2]\n"
          ]
        }
      ]
    },
    {
      "cell_type": "markdown",
      "metadata": {
        "id": "fYOeg4-YPMsm"
      },
      "source": [
        "## **Ordinal Encoder**"
      ]
    },
    {
      "cell_type": "code",
      "metadata": {
        "colab": {
          "base_uri": "https://localhost:8080/"
        },
        "id": "5IDc6ip8JpVm",
        "outputId": "97314f9c-2666-4ba8-9475-9fab812205f2"
      },
      "source": [
        "from sklearn.preprocessing import OrdinalEncoder\n",
        "enc = OrdinalEncoder()\n",
        "X = [['Male'], ['Female'], ['Female'],['others'],['others']]\n",
        "print(X)"
      ],
      "execution_count": 6,
      "outputs": [
        {
          "output_type": "stream",
          "name": "stdout",
          "text": [
            "[['Male'], ['Female'], ['Female'], ['others'], ['others']]\n"
          ]
        }
      ]
    },
    {
      "cell_type": "code",
      "metadata": {
        "colab": {
          "base_uri": "https://localhost:8080/"
        },
        "id": "nxd6jyyJNsaI",
        "outputId": "d2b0364b-4d2f-4fa0-a262-3021d8dcd8c9"
      },
      "source": [
        "enc.fit(X)\n",
        "list(enc.categories_)"
      ],
      "execution_count": 7,
      "outputs": [
        {
          "output_type": "execute_result",
          "data": {
            "text/plain": [
              "[array(['Female', 'Male', 'others'], dtype=object)]"
            ]
          },
          "metadata": {},
          "execution_count": 7
        }
      ]
    },
    {
      "cell_type": "code",
      "metadata": {
        "id": "CeL4VDFhN0As"
      },
      "source": [
        "ord=enc.transform(X)"
      ],
      "execution_count": 8,
      "outputs": []
    },
    {
      "cell_type": "code",
      "metadata": {
        "colab": {
          "base_uri": "https://localhost:8080/"
        },
        "id": "4TI6FBkxQUxo",
        "outputId": "fd701cd2-2881-4598-c4cf-d25d4548ec83"
      },
      "source": [
        "print(ord)"
      ],
      "execution_count": 9,
      "outputs": [
        {
          "output_type": "stream",
          "name": "stdout",
          "text": [
            "[[1.]\n",
            " [0.]\n",
            " [0.]\n",
            " [2.]\n",
            " [2.]]\n"
          ]
        }
      ]
    },
    {
      "cell_type": "markdown",
      "metadata": {
        "id": "D9E7PlXdPPro"
      },
      "source": [
        "## **Onehot Encoder**"
      ]
    },
    {
      "cell_type": "code",
      "metadata": {
        "id": "Iw3kYKEyN-Ov"
      },
      "source": [
        "from sklearn.preprocessing import OneHotEncoder"
      ],
      "execution_count": 10,
      "outputs": []
    },
    {
      "cell_type": "code",
      "metadata": {
        "id": "77o2eV7CPbNl"
      },
      "source": [
        "y=([\"Apple\"], [\"apple\"], [\"apple\"], [\"orange\"],[\"orange\"])\n",
        "oneenc=OneHotEncoder()"
      ],
      "execution_count": 11,
      "outputs": []
    },
    {
      "cell_type": "code",
      "metadata": {
        "colab": {
          "base_uri": "https://localhost:8080/"
        },
        "id": "QeP9FWl8PkHq",
        "outputId": "368ad9da-0817-45dd-a42c-14449b573998"
      },
      "source": [
        "oneenc.fit(y)"
      ],
      "execution_count": 12,
      "outputs": [
        {
          "output_type": "execute_result",
          "data": {
            "text/plain": [
              "OneHotEncoder(categories='auto', drop=None, dtype=<class 'numpy.float64'>,\n",
              "              handle_unknown='error', sparse=True)"
            ]
          },
          "metadata": {},
          "execution_count": 12
        }
      ]
    },
    {
      "cell_type": "code",
      "metadata": {
        "id": "kj-rTfwLPtIa"
      },
      "source": [
        "out=oneenc.transform(y).toarray()"
      ],
      "execution_count": 13,
      "outputs": []
    },
    {
      "cell_type": "code",
      "metadata": {
        "colab": {
          "base_uri": "https://localhost:8080/"
        },
        "id": "1-xlO0aTQY86",
        "outputId": "1bfc6ead-b068-4ea2-bc9a-803c95a79d66"
      },
      "source": [
        "print(out)\n"
      ],
      "execution_count": 14,
      "outputs": [
        {
          "output_type": "stream",
          "name": "stdout",
          "text": [
            "[[1. 0. 0.]\n",
            " [0. 1. 0.]\n",
            " [0. 1. 0.]\n",
            " [0. 0. 1.]\n",
            " [0. 0. 1.]]\n"
          ]
        }
      ]
    },
    {
      "cell_type": "code",
      "metadata": {
        "colab": {
          "base_uri": "https://localhost:8080/"
        },
        "id": "RyeMQvucQaUw",
        "outputId": "a19621d2-7b57-4993-91b4-b13c92ab09fa"
      },
      "source": [
        "from sklearn.preprocessing import StandardScaler\n",
        "data = [[0, 0], [0, 0], [1, 1], [1, 1]]\n",
        "print(data)\n",
        "print(\"Mean\",np.mean(data))"
      ],
      "execution_count": 15,
      "outputs": [
        {
          "output_type": "stream",
          "name": "stdout",
          "text": [
            "[[0, 0], [0, 0], [1, 1], [1, 1]]\n",
            "Mean 0.5\n"
          ]
        }
      ]
    },
    {
      "cell_type": "code",
      "metadata": {
        "colab": {
          "base_uri": "https://localhost:8080/"
        },
        "id": "_rgsYCCxSGfx",
        "outputId": "525cb826-88be-4fcb-d9fa-085e5195a049"
      },
      "source": [
        "scaler = StandardScaler()\n",
        "print(scaler.fit(data))"
      ],
      "execution_count": 16,
      "outputs": [
        {
          "output_type": "stream",
          "name": "stdout",
          "text": [
            "StandardScaler(copy=True, with_mean=True, with_std=True)\n"
          ]
        }
      ]
    },
    {
      "cell_type": "code",
      "metadata": {
        "colab": {
          "base_uri": "https://localhost:8080/"
        },
        "id": "0RV8yn3xSLOB",
        "outputId": "9c5e58a1-b851-413a-cbe3-c07a897307ea"
      },
      "source": [
        " print(scaler.mean_)\n"
      ],
      "execution_count": 17,
      "outputs": [
        {
          "output_type": "stream",
          "name": "stdout",
          "text": [
            "[0.5 0.5]\n"
          ]
        }
      ]
    },
    {
      "cell_type": "code",
      "metadata": {
        "colab": {
          "base_uri": "https://localhost:8080/"
        },
        "id": "ItM_IehOSi1t",
        "outputId": "d0719ed8-05d6-4453-e338-a52924e63296"
      },
      "source": [
        "transformeddata=scaler.transform(data)\n",
        "print(transformeddata)"
      ],
      "execution_count": 18,
      "outputs": [
        {
          "output_type": "stream",
          "name": "stdout",
          "text": [
            "[[-1. -1.]\n",
            " [-1. -1.]\n",
            " [ 1.  1.]\n",
            " [ 1.  1.]]\n"
          ]
        }
      ]
    }
  ]
}