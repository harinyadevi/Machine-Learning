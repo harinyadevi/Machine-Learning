{
  "nbformat": 4,
  "nbformat_minor": 0,
  "metadata": {
    "colab": {
      "name": "Lab5 OLS.ipynb",
      "provenance": [],
      "collapsed_sections": [],
      "authorship_tag": "ABX9TyNj8CIFl8yOfWN95Wri4/Sh"
    },
    "kernelspec": {
      "name": "python3",
      "display_name": "Python 3"
    },
    "language_info": {
      "name": "python"
    }
  },
  "cells": [
    {
      "cell_type": "markdown",
      "metadata": {
        "id": "GayP-vdst4Fi"
      },
      "source": [
        "Lab 5 OLS"
      ]
    },
    {
      "cell_type": "markdown",
      "metadata": {
        "id": "brKLt8f1t-F2"
      },
      "source": [
        "This program gives the linear equation of a given linear regression data"
      ]
    },
    {
      "cell_type": "code",
      "metadata": {
        "id": "SoswPpUXnWik"
      },
      "source": [
        "import numpy as np\n",
        "import pandas as pd\n",
        "import matplotlib.pyplot as plt"
      ],
      "execution_count": null,
      "outputs": []
    },
    {
      "cell_type": "code",
      "metadata": {
        "colab": {
          "base_uri": "https://localhost:8080/"
        },
        "id": "M_5f9ChMng8X",
        "outputId": "6f1a58b5-a77f-4ef9-fb30-4ec866c86840"
      },
      "source": [
        "n = int(input())\n",
        "l_x =[]\n",
        "for i in range(n):\n",
        "  l_x.append(int(input()))\n",
        "l_y =[]\n",
        "for i in range(n):\n",
        "  l_y.append(int(input()))"
      ],
      "execution_count": null,
      "outputs": [
        {
          "output_type": "stream",
          "text": [
            "11\n",
            "6\n",
            "10\n",
            "2\n",
            "4\n",
            "6\n",
            "7\n",
            "0\n",
            "1\n",
            "8\n",
            "5\n",
            "3\n",
            "82\n",
            "88\n",
            "56\n",
            "64\n",
            "77\n",
            "92\n",
            "23\n",
            "41\n",
            "80\n",
            "59\n",
            "47\n"
          ],
          "name": "stdout"
        }
      ]
    },
    {
      "cell_type": "code",
      "metadata": {
        "id": "jH2MxWbZoHaJ"
      },
      "source": [
        "mean_x = np.mean(l_x)\n",
        "mean_y = np.mean(l_y)"
      ],
      "execution_count": null,
      "outputs": []
    },
    {
      "cell_type": "code",
      "metadata": {
        "colab": {
          "base_uri": "https://localhost:8080/"
        },
        "id": "wXfQZ81IrG3r",
        "outputId": "08f47c94-b2c6-4002-d287-3b297ff254a7"
      },
      "source": [
        "print(mean_x)\n",
        "print(mean_y)"
      ],
      "execution_count": null,
      "outputs": [
        {
          "output_type": "stream",
          "text": [
            "4.7272727272727275\n",
            "64.45454545454545\n"
          ],
          "name": "stdout"
        }
      ]
    },
    {
      "cell_type": "code",
      "metadata": {
        "id": "n-7CtaX2ofka"
      },
      "source": [
        "# Using the formula to calculate 'm' and 'c'\n",
        "numer = 0\n",
        "denom = 0\n",
        "for i in range(n):\n",
        "  numer += (l_x[i] - mean_x) * (l_y[i] - mean_y)\n",
        "  denom += (l_x[i] - mean_x) ** 2\n",
        "m = numer / denom\n",
        "c = mean_y - (m * mean_x)"
      ],
      "execution_count": null,
      "outputs": []
    },
    {
      "cell_type": "code",
      "metadata": {
        "colab": {
          "base_uri": "https://localhost:8080/"
        },
        "id": "p-wbB_3crRZM",
        "outputId": "92ce0751-4562-41ee-c533-c32807c20c8c"
      },
      "source": [
        "print(m)\n",
        "print(c)"
      ],
      "execution_count": null,
      "outputs": [
        {
          "output_type": "stream",
          "text": [
            "6.49131274131274\n",
            "33.76833976833977\n"
          ],
          "name": "stdout"
        }
      ]
    },
    {
      "cell_type": "code",
      "metadata": {
        "colab": {
          "base_uri": "https://localhost:8080/"
        },
        "id": "kWXaQEw7ratd",
        "outputId": "7157f15c-52ef-4c2f-d1d9-968e99dc609c"
      },
      "source": [
        "print(\"The equation of the linear regression is: \")\n",
        "print(\"Y = \" + str(m) + \" X\" + \" + \" + str(c))"
      ],
      "execution_count": null,
      "outputs": [
        {
          "output_type": "stream",
          "text": [
            "The equation of the linear regression is: \n",
            "Y = 6.49131274131274 X + 33.76833976833977\n"
          ],
          "name": "stdout"
        }
      ]
    },
    {
      "cell_type": "code",
      "metadata": {
        "colab": {
          "base_uri": "https://localhost:8080/",
          "height": 279
        },
        "id": "olpjSYmBov8n",
        "outputId": "373923b8-2f50-4c66-ca60-e35d2daf70b6"
      },
      "source": [
        "# Plotting Values and Regression Line\n",
        " \n",
        "max_x = np.max(l_x)\n",
        "min_x = np.min(l_x)\n",
        " \n",
        "# Calculating line values x and y\n",
        "x = np.linspace(min_x, max_x, 1000)\n",
        "y = c + m * x\n",
        " \n",
        "# Ploting Line\n",
        "plt.plot(x, y, color='#58b970', label='Regression Line')\n",
        "# Ploting Scatter Points\n",
        "plt.scatter(l_x, l_y, c='#ef5423', label='Scatter Plot')\n",
        " \n",
        "plt.xlabel('X')\n",
        "plt.ylabel('Y')\n",
        "plt.legend()\n",
        "plt.show()\n"
      ],
      "execution_count": null,
      "outputs": [
        {
          "output_type": "display_data",
          "data": {
            "image/png": "[encoded data removed]",
            "text/plain": [
              "<Figure size 432x288 with 1 Axes>"
            ]
          },
          "metadata": {
            "needs_background": "light"
          }
        }
      ]
    }
  ]
}