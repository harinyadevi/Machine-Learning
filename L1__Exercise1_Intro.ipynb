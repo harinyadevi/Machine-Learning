{
  "nbformat": 4,
  "nbformat_minor": 0,
  "metadata": {
    "colab": {
      "name": "L1_ Exercise1_Intro.ipynb",
      "provenance": [],
      "collapsed_sections": []
    },
    "kernelspec": {
      "name": "python3",
      "display_name": "Python 3"
    }
  },
  "cells": [
    {
      "cell_type": "markdown",
      "metadata": {
        "id": "reWBL1g7Zqg3"
      },
      "source": [
        "> # **19CSE 305-ML LAB 1**\n",
        "\n",
        "**INTRODUCTION TO PYTHON-JUPYTER NOTEBOOK**\n",
        "\n",
        "\n",
        "References: Github reppositories, Tutorial Point\n",
        "\n",
        "\n",
        "\n",
        "\n"
      ]
    },
    {
      "cell_type": "markdown",
      "metadata": {
        "id": "d5vrhQ_7aZsy"
      },
      "source": [
        "#What is a Jupyter Note Book\n",
        "A notebook document consists of rich text elements with HTML formatted text, figures, mathematical equations etc. The notebook is also an executable document consisting of code blocks in Python or other supporting languages.\n",
        "\n",
        "Jupyter notebook is a client-server application. The application starts the server on local machine and opens the notebook interface in web browser where it can be edited and run from. The notebook is saved as ipynb file and can be exported as html, pdf and LaTex files.\n",
        "\n",
        "\"Jupyter\" is a loose acronym meaning **Julia, Python, and R**."
      ]
    },
    {
      "cell_type": "markdown",
      "metadata": {
        "id": "7anInQp9cGLh"
      },
      "source": [
        "#**Jupyter Notebook - Types of Cells**\n",
        "\n",
        "##**Code Cells**\n",
        "\n",
        "Contents in this cell are treated as **statements in a programming language** of current kernel. Default kernel is Python. So, we can write Python statements in a code cell. When such cell is run, its result is displayed in an output cell. The output may be text, image, matplotlib plots or HTML tables. Code cells have rich text capability.\n",
        "\n",
        "**SHIFT+ENTER :** To execute a celll\n",
        "\n"
      ]
    },
    {
      "cell_type": "code",
      "metadata": {
        "colab": {
          "base_uri": "https://localhost:8080/"
        },
        "id": "LkwMFvoxcgvG",
        "outputId": "c46b3ae8-fadf-4c02-9302-2fee33aff01b"
      },
      "source": [
        "# As well as code, and see their output in real time\n",
        "print('Hello World')"
      ],
      "execution_count": null,
      "outputs": [
        {
          "output_type": "stream",
          "text": [
            "Hello World\n"
          ],
          "name": "stdout"
        }
      ]
    },
    {
      "cell_type": "code",
      "metadata": {
        "colab": {
          "base_uri": "https://localhost:8080/"
        },
        "id": "JX6pnokLduiq",
        "outputId": "73a4ca9d-da7a-443d-ba4f-0eecada644e0"
      },
      "source": [
        "1+1"
      ],
      "execution_count": null,
      "outputs": [
        {
          "output_type": "execute_result",
          "data": {
            "text/plain": [
              "2"
            ]
          },
          "metadata": {
            "tags": []
          },
          "execution_count": 2
        }
      ]
    },
    {
      "cell_type": "markdown",
      "metadata": {
        "id": "yK4Hxg_-ct8S"
      },
      "source": [
        "\n",
        "**Each block that you navigate using the up and down keys is called a cell**\n",
        "\n",
        "*   Hit [Shift+Enter] to execute a cell\n",
        "*   Hit [Enter] to edit a cell in the Edit mode. Once you are done, hit [Escape] to  come back into command mode\n",
        "\n",
        "\n",
        "\n"
      ]
    },
    {
      "cell_type": "markdown",
      "metadata": {
        "id": "igqgisB2dPXJ"
      },
      "source": [
        "#**Markdown Cells**\n",
        "These cells contain text formatted using markdown language. All kinds of formatting features are available like making text bold and italic, displaying ordered or unordered list, rendering tabular contents etc. Markdown cells are especially useful to provide documentation to the computational process of the notebook.\n",
        "\n",
        "#Heading\n",
        "##Heading\n",
        "###Heading\n",
        "####Heading\n",
        "#####Heading\n",
        "######Heading\n",
        "\n"
      ]
    },
    {
      "cell_type": "markdown",
      "metadata": {
        "id": "pXwuqqpIeFSt"
      },
      "source": [
        "#*How is it better than normal Python?*\n",
        "* Well, if you're a data scientist/AI-ML aspirant, it stores all your variable data in your RAM so you don't have to keep loading it again and again.\n",
        "* Lets you embed interactive plots into your notebook.\n",
        "\n",
        " Let's try that by plotting the quadratic function."
      ]
    },
    {
      "cell_type": "code",
      "metadata": {
        "colab": {
          "base_uri": "https://localhost:8080/"
        },
        "id": "9nIVF4aRcjde",
        "outputId": "f7b45750-e7e6-406e-9a82-f5446398a01d"
      },
      "source": [
        "# This line configures matplotlib(plotting library) to show figures embedded in the notebook, \n",
        "# instead of opening a new window for each figure. It also imports numpy \n",
        "# and matplotlib.pyplot in their common namespaces, np and plt\n",
        "%pylab inline"
      ],
      "execution_count": null,
      "outputs": [
        {
          "output_type": "stream",
          "text": [
            "Populating the interactive namespace from numpy and matplotlib\n"
          ],
          "name": "stdout"
        }
      ]
    },
    {
      "cell_type": "code",
      "metadata": {
        "colab": {
          "base_uri": "https://localhost:8080/"
        },
        "id": "4tz_kvssfPLr",
        "outputId": "e54e0926-763f-440e-da5c-b2966821ca41"
      },
      "source": [
        "x = np.linspace(0, 5, 10)\n",
        "y = x ** 2\n",
        "print(\"x= \",x)\n",
        "print(\"y= \",y)"
      ],
      "execution_count": null,
      "outputs": [
        {
          "output_type": "stream",
          "text": [
            "x=  [0.         0.55555556 1.11111111 1.66666667 2.22222222 2.77777778\n",
            " 3.33333333 3.88888889 4.44444444 5.        ]\n",
            "y=  [ 0.          0.30864198  1.2345679   2.77777778  4.9382716   7.71604938\n",
            " 11.11111111 15.12345679 19.75308642 25.        ]\n"
          ],
          "name": "stdout"
        }
      ]
    },
    {
      "cell_type": "code",
      "metadata": {
        "colab": {
          "base_uri": "https://localhost:8080/",
          "height": 295
        },
        "id": "O4sj2yBofTDF",
        "outputId": "955bd75d-f463-47c5-86a7-e2da57b50b09"
      },
      "source": [
        "plt.figure()\n",
        "plt.plot(x, y, 'r')\n",
        "plt.xlabel('x')\n",
        "plt.ylabel('y')\n",
        "plt.title('This be the quadratic function')\n",
        "plt.show()"
      ],
      "execution_count": null,
      "outputs": [
        {
          "output_type": "display_data",
          "data": {
            "image/png": "[encoded data removed]",
            "text/plain": [
              "<Figure size 432x288 with 1 Axes>"
            ]
          },
          "metadata": {
            "tags": [],
            "needs_background": "light"
          }
        }
      ]
    },
    {
      "cell_type": "markdown",
      "metadata": {
        "id": "MnRMGLoefrQ7"
      },
      "source": [
        "To explore more on the matplotlib [click here](https://nbviewer.jupyter.org/github/jrjohansson/scientific-python-lectures/blob/master/Lecture-4-Matplotlib.ipynb)"
      ]
    },
    {
      "cell_type": "code",
      "metadata": {
        "colab": {
          "base_uri": "https://localhost:8080/"
        },
        "id": "emaOXnrgf81N",
        "outputId": "228bd7a5-7be0-4d33-9990-843a0232e8af"
      },
      "source": [
        "ls"
      ],
      "execution_count": null,
      "outputs": [
        {
          "output_type": "stream",
          "text": [
            "\u001b[0m\u001b[01;34msample_data\u001b[0m/\n"
          ],
          "name": "stdout"
        }
      ]
    }
  ]
}