{
  "nbformat": 4,
  "nbformat_minor": 0,
  "metadata": {
    "kernelspec": {
      "display_name": "Python 3",
      "language": "python",
      "name": "python3"
    },
    "language_info": {
      "codemirror_mode": {
        "name": "ipython",
        "version": 3
      },
      "file_extension": ".py",
      "mimetype": "text/x-python",
      "name": "python",
      "nbconvert_exporter": "python",
      "pygments_lexer": "ipython3",
      "version": "3.5.2"
    },
    "colab": {
      "name": "4.1_EX1_Basic Statistical Measures.ipynb",
      "provenance": [],
      "collapsed_sections": []
    }
  },
  "cells": [
    {
      "cell_type": "markdown",
      "metadata": {
        "id": "uUDH0eN6Dmch"
      },
      "source": [
        "# **19CSE305:MACHINE LEARNING LAB 4**\n",
        "\n",
        "## Exploratory Data Analysis"
      ]
    },
    {
      "cell_type": "markdown",
      "metadata": {
        "id": "xD_-oDT4DkkJ"
      },
      "source": [
        "# Mean"
      ]
    },
    {
      "cell_type": "code",
      "metadata": {
        "id": "7U0O7q3yDkkO"
      },
      "source": [
        "import numpy as np\n",
        "import pandas as pd"
      ],
      "execution_count": 1,
      "outputs": []
    },
    {
      "cell_type": "code",
      "metadata": {
        "id": "FcCJltyRDkkQ"
      },
      "source": [
        "sample_list = [1, 2, 2, 2, 4, 5, 6, 6, 6, 9, 10, 10, 10, 11, 14, 14, 15, 18, 19, 20]"
      ],
      "execution_count": null,
      "outputs": []
    },
    {
      "cell_type": "code",
      "metadata": {
        "id": "SEWWtnuaDkkQ"
      },
      "source": [
        "def cal_mean(data):\n",
        "    return sum(data)/(len(data)*1.0)"
      ],
      "execution_count": null,
      "outputs": []
    },
    {
      "cell_type": "code",
      "metadata": {
        "colab": {
          "base_uri": "https://localhost:8080/"
        },
        "id": "LwMRWLN-DkkT",
        "outputId": "2e94a5bf-a75e-42ba-8ec3-a348507fb347"
      },
      "source": [
        "cal_mean(sample_list)"
      ],
      "execution_count": null,
      "outputs": [
        {
          "output_type": "execute_result",
          "data": {
            "text/plain": [
              "9.2"
            ]
          },
          "metadata": {
            "tags": []
          },
          "execution_count": 14
        }
      ]
    },
    {
      "cell_type": "code",
      "metadata": {
        "id": "3YEb7uO9DkkV"
      },
      "source": [
        "my_np_list = np.asarray(sample_list)"
      ],
      "execution_count": null,
      "outputs": []
    },
    {
      "cell_type": "code",
      "metadata": {
        "colab": {
          "base_uri": "https://localhost:8080/"
        },
        "id": "VtF6pooRDkkV",
        "outputId": "4aca17d6-00be-41f9-ae29-4577f0a169e3"
      },
      "source": [
        "np.mean(my_np_list)"
      ],
      "execution_count": null,
      "outputs": [
        {
          "output_type": "execute_result",
          "data": {
            "text/plain": [
              "9.2"
            ]
          },
          "metadata": {
            "tags": []
          },
          "execution_count": 16
        }
      ]
    },
    {
      "cell_type": "markdown",
      "metadata": {
        "id": "D3MLFzE0DkkW"
      },
      "source": [
        "### How mean is affected by extreme points"
      ]
    },
    {
      "cell_type": "code",
      "metadata": {
        "colab": {
          "base_uri": "https://localhost:8080/"
        },
        "id": "0ilYqrT3DkkX",
        "outputId": "5a99df35-e327-4676-b224-e4e3b08e786b"
      },
      "source": [
        "sample_list.append(100)\n",
        "print(\"New List:\",sample_list)"
      ],
      "execution_count": null,
      "outputs": [
        {
          "output_type": "stream",
          "text": [
            "New List: [1, 2, 2, 2, 4, 5, 6, 6, 6, 9, 10, 10, 10, 11, 14, 14, 15, 18, 19, 20, 100]\n"
          ],
          "name": "stdout"
        }
      ]
    },
    {
      "cell_type": "code",
      "metadata": {
        "colab": {
          "base_uri": "https://localhost:8080/"
        },
        "id": "fuBEo_EqDkkX",
        "outputId": "50fc5ea7-bd32-4700-85d1-b9816c065de3"
      },
      "source": [
        "cal_mean(sample_list)"
      ],
      "execution_count": null,
      "outputs": [
        {
          "output_type": "execute_result",
          "data": {
            "text/plain": [
              "13.523809523809524"
            ]
          },
          "metadata": {
            "tags": []
          },
          "execution_count": 18
        }
      ]
    },
    {
      "cell_type": "markdown",
      "metadata": {
        "id": "ehHLnouLDkkY"
      },
      "source": [
        "# Median"
      ]
    },
    {
      "cell_type": "code",
      "metadata": {
        "colab": {
          "base_uri": "https://localhost:8080/"
        },
        "id": "ux5GWAq5DkkY",
        "outputId": "cbc363b0-76aa-4f72-e2eb-afcfb8198fe6"
      },
      "source": [
        "np.median(sample_list)"
      ],
      "execution_count": null,
      "outputs": [
        {
          "output_type": "execute_result",
          "data": {
            "text/plain": [
              "10.0"
            ]
          },
          "metadata": {
            "tags": []
          },
          "execution_count": 19
        }
      ]
    },
    {
      "cell_type": "code",
      "metadata": {
        "colab": {
          "base_uri": "https://localhost:8080/"
        },
        "id": "2zR6kEGRDkkZ",
        "outputId": "d453054c-fc25-483c-8137-6b734b8b5f0e"
      },
      "source": [
        "sample_list"
      ],
      "execution_count": null,
      "outputs": [
        {
          "output_type": "execute_result",
          "data": {
            "text/plain": [
              "[1, 2, 2, 2, 4, 5, 6, 6, 6, 9, 10, 10, 10, 11, 14, 14, 15, 18, 19, 20, 100]"
            ]
          },
          "metadata": {
            "tags": []
          },
          "execution_count": 20
        }
      ]
    },
    {
      "cell_type": "code",
      "metadata": {
        "colab": {
          "base_uri": "https://localhost:8080/"
        },
        "id": "Jexs6ueADkka",
        "outputId": "a1b1956d-4a59-40fb-9a3d-2c1d31524225"
      },
      "source": [
        "np.median(my_np_list)"
      ],
      "execution_count": null,
      "outputs": [
        {
          "output_type": "execute_result",
          "data": {
            "text/plain": [
              "9.5"
            ]
          },
          "metadata": {
            "tags": []
          },
          "execution_count": 21
        }
      ]
    },
    {
      "cell_type": "code",
      "metadata": {
        "colab": {
          "base_uri": "https://localhost:8080/"
        },
        "id": "L7f0BjglDkka",
        "outputId": "40bdd508-0750-4644-ce2c-05d51681e7c5"
      },
      "source": [
        "my_np_list"
      ],
      "execution_count": null,
      "outputs": [
        {
          "output_type": "execute_result",
          "data": {
            "text/plain": [
              "array([ 1,  2,  2,  2,  4,  5,  6,  6,  6,  9, 10, 10, 10, 11, 14, 14, 15,\n",
              "       18, 19, 20])"
            ]
          },
          "metadata": {
            "tags": []
          },
          "execution_count": 22
        }
      ]
    },
    {
      "cell_type": "markdown",
      "metadata": {
        "id": "QU9XPgQFDkkb"
      },
      "source": [
        "# Mode"
      ]
    },
    {
      "cell_type": "code",
      "metadata": {
        "id": "bRycSbTEDkkc"
      },
      "source": [
        "from scipy.stats import mode"
      ],
      "execution_count": null,
      "outputs": []
    },
    {
      "cell_type": "code",
      "metadata": {
        "colab": {
          "base_uri": "https://localhost:8080/"
        },
        "id": "CJcpTI_xDkkc",
        "outputId": "ea1a6090-ba72-450d-bd13-c07091d274da"
      },
      "source": [
        "mode(sample_list)"
      ],
      "execution_count": null,
      "outputs": [
        {
          "output_type": "execute_result",
          "data": {
            "text/plain": [
              "ModeResult(mode=array([2]), count=array([3]))"
            ]
          },
          "metadata": {
            "tags": []
          },
          "execution_count": 24
        }
      ]
    },
    {
      "cell_type": "markdown",
      "metadata": {
        "id": "h-yIsY6aDkkc"
      },
      "source": [
        "## Can be used over non-numeric data"
      ]
    },
    {
      "cell_type": "code",
      "metadata": {
        "id": "M-OUZ9RdDkkd"
      },
      "source": [
        "my_list_str = ['a', 'b', 'c', 'a', 'b', 'b', 'c', 'a', 'a', 'b', 'd']"
      ],
      "execution_count": null,
      "outputs": []
    },
    {
      "cell_type": "code",
      "metadata": {
        "colab": {
          "base_uri": "https://localhost:8080/"
        },
        "id": "7q4HoHYuDkkd",
        "outputId": "6b132a06-b502-4a6c-fa14-6d618aabdab7"
      },
      "source": [
        "mode(my_list_str)"
      ],
      "execution_count": null,
      "outputs": [
        {
          "output_type": "execute_result",
          "data": {
            "text/plain": [
              "ModeResult(mode=array(['a'], dtype='<U1'), count=array([4]))"
            ]
          },
          "metadata": {
            "tags": []
          },
          "execution_count": 26
        }
      ]
    },
    {
      "cell_type": "markdown",
      "metadata": {
        "id": "hB4-Dmr_E6Mu"
      },
      "source": [
        "## Variannce and Standard Deviation"
      ]
    },
    {
      "cell_type": "code",
      "metadata": {
        "id": "17TZcnMRDkke"
      },
      "source": [
        "data=np.array([1, 2, 2, 2, 4, 5, 6, 6, 6, 9, 10, 10, 10, 11, 14, 14, 15, 18, 19, 20])"
      ],
      "execution_count": null,
      "outputs": []
    },
    {
      "cell_type": "markdown",
      "metadata": {
        "id": "qkAmyA4hFffk"
      },
      "source": [
        "**Create the data using np.asarray. Differntiate between np.array and np.asarray**"
      ]
    },
    {
      "cell_type": "code",
      "metadata": {
        "colab": {
          "base_uri": "https://localhost:8080/"
        },
        "id": "OI82RpzJFKYU",
        "outputId": "e7cad318-fdd6-4685-d74e-dab027a38459"
      },
      "source": [
        "np.var(data)"
      ],
      "execution_count": null,
      "outputs": [
        {
          "output_type": "execute_result",
          "data": {
            "text/plain": [
              "33.66"
            ]
          },
          "metadata": {
            "tags": []
          },
          "execution_count": 28
        }
      ]
    },
    {
      "cell_type": "code",
      "metadata": {
        "colab": {
          "base_uri": "https://localhost:8080/"
        },
        "id": "32ix4fnEFOK5",
        "outputId": "7f00aac1-4bc0-4d88-b6ea-3b192e9357e9"
      },
      "source": [
        "np.std(data)"
      ],
      "execution_count": null,
      "outputs": [
        {
          "output_type": "execute_result",
          "data": {
            "text/plain": [
              "5.801723881744114"
            ]
          },
          "metadata": {
            "tags": []
          },
          "execution_count": 29
        }
      ]
    },
    {
      "cell_type": "markdown",
      "metadata": {
        "id": "66BHCKj7GJnT"
      },
      "source": [
        "##  Visualizing Statistical Measures"
      ]
    },
    {
      "cell_type": "code",
      "metadata": {
        "id": "MGrXdEuDFzyF"
      },
      "source": [
        "import seaborn as sns\n",
        "import matplotlib.pyplot as plt"
      ],
      "execution_count": null,
      "outputs": []
    },
    {
      "cell_type": "code",
      "metadata": {
        "colab": {
          "base_uri": "https://localhost:8080/"
        },
        "id": "FmvlhDg1GT7I",
        "outputId": "aa28c4b0-6cb6-4abc-aeda-54a2cfbdecf9"
      },
      "source": [
        "#Create random array of normal distribution\n",
        "x=np.random.normal(50,5,3000)\n",
        "print(x)\n",
        "print(x.shape)"
      ],
      "execution_count": null,
      "outputs": [
        {
          "output_type": "stream",
          "text": [
            "[46.54407107 51.09036943 58.58930075 ... 52.2440643  49.50514897\n",
            " 55.74040428]\n",
            "(3000,)\n"
          ],
          "name": "stdout"
        }
      ]
    },
    {
      "cell_type": "markdown",
      "metadata": {
        "id": "wVXSDzs0H8KU"
      },
      "source": [
        "## **Excercise 1**\n",
        "\n",
        "Find the maximum and minimum and calculate Max-**Min**"
      ]
    },
    {
      "cell_type": "code",
      "metadata": {
        "colab": {
          "base_uri": "https://localhost:8080/"
        },
        "id": "DSUAOt2kGmSy",
        "outputId": "260dbe71-bb03-4ee0-cfe2-4ab77faf19cf"
      },
      "source": [
        "print(\"Max is:\",max(x))\n",
        "print(\"Min is:\",min(x))\n",
        "print(\"Max-Min is:\",max(x)-min(x))\n",
        "#Find the minimum\n",
        "#calculate MAx-Min"
      ],
      "execution_count": null,
      "outputs": [
        {
          "output_type": "stream",
          "text": [
            "Max is: 67.41008594104062\n",
            "Min is: 34.73996672950021\n",
            "Max-Min is: 32.67011921154041\n"
          ],
          "name": "stdout"
        }
      ]
    },
    {
      "cell_type": "markdown",
      "metadata": {
        "id": "TDRM73NMHN7f"
      },
      "source": [
        "### Frequency Histogram\n"
      ]
    },
    {
      "cell_type": "code",
      "metadata": {
        "colab": {
          "base_uri": "https://localhost:8080/",
          "height": 296
        },
        "id": "8gL-hd2WG0BY",
        "outputId": "58e3c035-dadb-4474-9999-c89d1d01066f"
      },
      "source": [
        "#using Matplot lib\n",
        "plt.hist(x)\n",
        "plt.xlabel('Intervals')\n",
        "plt.ylabel('Frequency')"
      ],
      "execution_count": null,
      "outputs": [
        {
          "output_type": "execute_result",
          "data": {
            "text/plain": [
              "Text(0, 0.5, 'Frequency')"
            ]
          },
          "metadata": {
            "tags": []
          },
          "execution_count": 33
        },
        {
          "output_type": "display_data",
          "data": {
            "image/png": "[encoded data removed]",
            "text/plain": [
              "<Figure size 432x288 with 1 Axes>"
            ]
          },
          "metadata": {
            "tags": [],
            "needs_background": "light"
          }
        }
      ]
    },
    {
      "cell_type": "markdown",
      "metadata": {
        "id": "9iQvXlTfISLg"
      },
      "source": [
        "## **Excercise 2**\n",
        "\n",
        "Plot the frequency histogram using Seaborn. For Seaborn documentation click[ here](https://seaborn.pydata.org/tutorial/distributions.html).\n",
        "\n",
        "\n",
        "\n",
        "*  Plot the histogram with bin size 5\n",
        "*  Plot the histogram with bin size 10\n",
        "*  Plot the histogram with bin size 15\n",
        "*  Plot the histogram with bin size 50\n",
        "*  Plot the histogram with bin size 30\n",
        "\n",
        "Write down your inferences\n",
        "\n",
        "\n",
        "\n"
      ]
    },
    {
      "cell_type": "code",
      "metadata": {
        "colab": {
          "base_uri": "https://localhost:8080/",
          "height": 386
        },
        "id": "2eUJ_Y44sl0R",
        "outputId": "41baf4b4-9966-4f29-c743-cf5cf7e0b5b1"
      },
      "source": [
        "import numpy as np\n",
        "import seaborn as sns\n",
        "import matplotlib.pyplot as plt\n",
        "x=np.random.normal(50,5,3000)\n",
        "sns.displot(x,binwidth=5)"
      ],
      "execution_count": null,
      "outputs": [
        {
          "output_type": "execute_result",
          "data": {
            "text/plain": [
              "<seaborn.axisgrid.FacetGrid at 0x7f92cfe0b7d0>"
            ]
          },
          "metadata": {
            "tags": []
          },
          "execution_count": 3
        },
        {
          "output_type": "display_data",
          "data": {
            "image/png": "[encoded data removed]",
            "text/plain": [
              "<Figure size 360x360 with 1 Axes>"
            ]
          },
          "metadata": {
            "tags": [],
            "needs_background": "light"
          }
        }
      ]
    },
    {
      "cell_type": "code",
      "metadata": {
        "colab": {
          "base_uri": "https://localhost:8080/",
          "height": 386
        },
        "id": "iDnaCvmawV2g",
        "outputId": "0d238764-bccc-4433-bc9c-e4e6f0069513"
      },
      "source": [
        "sns.displot(x,binwidth=10)"
      ],
      "execution_count": null,
      "outputs": [
        {
          "output_type": "execute_result",
          "data": {
            "text/plain": [
              "<seaborn.axisgrid.FacetGrid at 0x7f92b8832f90>"
            ]
          },
          "metadata": {
            "tags": []
          },
          "execution_count": 4
        },
        {
          "output_type": "display_data",
          "data": {
            "image/png": "[encoded data removed]",
            "text/plain": [
              "<Figure size 360x360 with 1 Axes>"
            ]
          },
          "metadata": {
            "tags": [],
            "needs_background": "light"
          }
        }
      ]
    },
    {
      "cell_type": "code",
      "metadata": {
        "colab": {
          "base_uri": "https://localhost:8080/",
          "height": 386
        },
        "id": "E3JmKtWZwd3k",
        "outputId": "d8fe79df-b62f-4b3f-ca48-82d77592ff30"
      },
      "source": [
        "sns.displot(x,binwidth=15)"
      ],
      "execution_count": null,
      "outputs": [
        {
          "output_type": "execute_result",
          "data": {
            "text/plain": [
              "<seaborn.axisgrid.FacetGrid at 0x7f92b882d7d0>"
            ]
          },
          "metadata": {
            "tags": []
          },
          "execution_count": 5
        },
        {
          "output_type": "display_data",
          "data": {
            "image/png": "[encoded data removed]",
            "text/plain": [
              "<Figure size 360x360 with 1 Axes>"
            ]
          },
          "metadata": {
            "tags": [],
            "needs_background": "light"
          }
        }
      ]
    },
    {
      "cell_type": "code",
      "metadata": {
        "colab": {
          "base_uri": "https://localhost:8080/",
          "height": 386
        },
        "id": "gO7LBAJIwhIw",
        "outputId": "7222e415-32d6-4e80-8609-c9e9a7e3d167"
      },
      "source": [
        "sns.displot(x,binwidth=50)"
      ],
      "execution_count": null,
      "outputs": [
        {
          "output_type": "execute_result",
          "data": {
            "text/plain": [
              "<seaborn.axisgrid.FacetGrid at 0x7f92b8340e50>"
            ]
          },
          "metadata": {
            "tags": []
          },
          "execution_count": 6
        },
        {
          "output_type": "display_data",
          "data": {
            "image/png": "[encoded data removed]",
            "text/plain": [
              "<Figure size 360x360 with 1 Axes>"
            ]
          },
          "metadata": {
            "tags": [],
            "needs_background": "light"
          }
        }
      ]
    },
    {
      "cell_type": "code",
      "metadata": {
        "colab": {
          "base_uri": "https://localhost:8080/",
          "height": 386
        },
        "id": "8-69bhedwl8r",
        "outputId": "4e6bc703-cd02-4900-c682-2ac1d370c596"
      },
      "source": [
        "sns.displot(x,binwidth=30)"
      ],
      "execution_count": null,
      "outputs": [
        {
          "output_type": "execute_result",
          "data": {
            "text/plain": [
              "<seaborn.axisgrid.FacetGrid at 0x7f92b825f390>"
            ]
          },
          "metadata": {
            "tags": []
          },
          "execution_count": 7
        },
        {
          "output_type": "display_data",
          "data": {
            "image/png": "[encoded data removed]",
            "text/plain": [
              "<Figure size 360x360 with 1 Axes>"
            ]
          },
          "metadata": {
            "tags": [],
            "needs_background": "light"
          }
        }
      ]
    },
    {
      "cell_type": "markdown",
      "metadata": {
        "id": "hQLTzdTk_HjB"
      },
      "source": [
        "Inference: As the binsize increases, width of the histogram plot also increases"
      ]
    },
    {
      "cell_type": "markdown",
      "metadata": {
        "id": "b6jmTDxqJsVY"
      },
      "source": [
        "## Density Plot\n",
        "\n",
        "KDE(Kernal Density Estimation):A histogram aims to approximate the underlying probability density function that generated the data by binning and counting observations. Kernel density estimation (KDE) presents a different solution to the same problem. Rather than using discrete bins, a KDE plot smooths the observations with a Gaussian kernel, producing a continuous density estimate:"
      ]
    },
    {
      "cell_type": "code",
      "metadata": {
        "colab": {
          "base_uri": "https://localhost:8080/",
          "height": 386
        },
        "id": "_Vw-1S_3HgLS",
        "outputId": "2fd34844-b8dc-464c-f380-0cc7a7d6d7b3"
      },
      "source": [
        "sns.displot(x,  kind=\"kde\")"
      ],
      "execution_count": null,
      "outputs": [
        {
          "output_type": "execute_result",
          "data": {
            "text/plain": [
              "<seaborn.axisgrid.FacetGrid at 0x7f92b80c3610>"
            ]
          },
          "metadata": {
            "tags": []
          },
          "execution_count": 34
        },
        {
          "output_type": "display_data",
          "data": {
            "image/png": "[encoded data removed]",
            "text/plain": [
              "<Figure size 360x360 with 1 Axes>"
            ]
          },
          "metadata": {
            "tags": [],
            "needs_background": "light"
          }
        }
      ]
    },
    {
      "cell_type": "code",
      "metadata": {
        "colab": {
          "base_uri": "https://localhost:8080/",
          "height": 386
        },
        "id": "uxff1A0EKE28",
        "outputId": "c0306f83-4680-4da2-8f9e-b8a15495e259"
      },
      "source": [
        "sns.displot(x,  kde='True',bins=10)\n",
        "plt.ylabel('Density')"
      ],
      "execution_count": null,
      "outputs": [
        {
          "output_type": "execute_result",
          "data": {
            "text/plain": [
              "Text(3.799999999999997, 0.5, 'Density')"
            ]
          },
          "metadata": {
            "tags": []
          },
          "execution_count": 35
        },
        {
          "output_type": "display_data",
          "data": {
            "image/png": "[encoded data removed]",
            "text/plain": [
              "<Figure size 360x360 with 1 Axes>"
            ]
          },
          "metadata": {
            "tags": [],
            "needs_background": "light"
          }
        }
      ]
    },
    {
      "cell_type": "code",
      "metadata": {
        "colab": {
          "base_uri": "https://localhost:8080/",
          "height": 318
        },
        "id": "EZ7HqX7dKlxw",
        "outputId": "43325b0a-ecde-4af2-d107-046e0d3d0b53"
      },
      "source": [
        "#Plotting mean and median\n",
        "plt.axvline(x.mean(), color='b', linestyle='dashed', linewidth=1)\n",
        "plt.axvline(np.median(x), color='r', linestyle='dashed', linewidth=2)\n",
        "sns.distplot(x, kde=True, bins=30, hist=False)\n",
        "plt.ylabel('Density')\n",
        "plt.show()"
      ],
      "execution_count": null,
      "outputs": [
        {
          "output_type": "stream",
          "text": [
            "/usr/local/lib/python3.7/dist-packages/seaborn/distributions.py:2557: FutureWarning: `distplot` is a deprecated function and will be removed in a future version. Please adapt your code to use either `displot` (a figure-level function with similar flexibility) or `kdeplot` (an axes-level function for kernel density plots).\n",
            "  warnings.warn(msg, FutureWarning)\n"
          ],
          "name": "stderr"
        },
        {
          "output_type": "display_data",
          "data": {
            "image/png": "[encoded data removed]",
            "text/plain": [
              "<Figure size 432x288 with 1 Axes>"
            ]
          },
          "metadata": {
            "tags": [],
            "needs_background": "light"
          }
        }
      ]
    },
    {
      "cell_type": "code",
      "metadata": {
        "colab": {
          "base_uri": "https://localhost:8080/"
        },
        "id": "LdRjjN61K348",
        "outputId": "7b346789-fac4-477d-e231-e767804ef6c6"
      },
      "source": [
        "print(\"Mean: \", np.mean(x))\n",
        "print(\"Median: \", np.median(x))"
      ],
      "execution_count": null,
      "outputs": [
        {
          "output_type": "stream",
          "text": [
            "Mean:  50.13142289877427\n",
            "Median:  50.21593350977797\n"
          ],
          "name": "stdout"
        }
      ]
    },
    {
      "cell_type": "markdown",
      "metadata": {
        "id": "FZmYpuT-LtOC"
      },
      "source": [
        "## Quartiles"
      ]
    },
    {
      "cell_type": "code",
      "metadata": {
        "colab": {
          "base_uri": "https://localhost:8080/"
        },
        "id": "ot0qa0TvLxod",
        "outputId": "822bb021-7d0c-437d-808c-a56be527e0bf"
      },
      "source": [
        "my_list = [1, 2, 2, 2, 4, 5, 6, 6, 6, 9, 10, 10, 10, 11, 14, 14, 15, 18, 19, 20]\n",
        "print(my_list)"
      ],
      "execution_count": null,
      "outputs": [
        {
          "output_type": "stream",
          "text": [
            "[1, 2, 2, 2, 4, 5, 6, 6, 6, 9, 10, 10, 10, 11, 14, 14, 15, 18, 19, 20]\n"
          ],
          "name": "stdout"
        }
      ]
    },
    {
      "cell_type": "code",
      "metadata": {
        "colab": {
          "base_uri": "https://localhost:8080/"
        },
        "id": "DCWra8-pL0LD",
        "outputId": "eb032696-da14-4d04-d72f-dcd9faf7409f"
      },
      "source": [
        "np.percentile(my_list, 10)"
      ],
      "execution_count": null,
      "outputs": [
        {
          "output_type": "execute_result",
          "data": {
            "text/plain": [
              "2.0"
            ]
          },
          "metadata": {
            "tags": []
          },
          "execution_count": 39
        }
      ]
    },
    {
      "cell_type": "code",
      "metadata": {
        "id": "X8Fkpyv9L6c2",
        "colab": {
          "base_uri": "https://localhost:8080/"
        },
        "outputId": "4a048c8c-e634-48ec-a2e9-643be771487c"
      },
      "source": [
        "np.percentile(my_list, 65)"
      ],
      "execution_count": null,
      "outputs": [
        {
          "output_type": "execute_result",
          "data": {
            "text/plain": [
              "10.35"
            ]
          },
          "metadata": {
            "tags": []
          },
          "execution_count": 40
        }
      ]
    },
    {
      "cell_type": "code",
      "metadata": {
        "id": "kUh3xgvLL9en",
        "colab": {
          "base_uri": "https://localhost:8080/"
        },
        "outputId": "ebb66416-7b20-4d95-dd1b-b0bda7f236c8"
      },
      "source": [
        "np.percentile(my_list, 99)"
      ],
      "execution_count": null,
      "outputs": [
        {
          "output_type": "execute_result",
          "data": {
            "text/plain": [
              "19.81"
            ]
          },
          "metadata": {
            "tags": []
          },
          "execution_count": 41
        }
      ]
    },
    {
      "cell_type": "code",
      "metadata": {
        "id": "VkjgNonGL_Wf",
        "colab": {
          "base_uri": "https://localhost:8080/"
        },
        "outputId": "25a80e8b-bfb7-4e67-c1aa-59b299b0fbf9"
      },
      "source": [
        "Q1 = np.percentile(my_list,25)\n",
        "Q2 = np.percentile(my_list,50)\n",
        "Q3 = np.percentile(my_list,75)\n",
        "print(\"Q1: \",Q1)\n",
        "print(\"Q2: \",Q2)\n",
        "print(\"Median:\",np.median(my_list))\n",
        "print(\"Q3: \",Q3)\n"
      ],
      "execution_count": null,
      "outputs": [
        {
          "output_type": "stream",
          "text": [
            "Q1:  4.75\n",
            "Q2:  9.5\n",
            "Median: 9.5\n",
            "Q3:  14.0\n"
          ],
          "name": "stdout"
        }
      ]
    },
    {
      "cell_type": "code",
      "metadata": {
        "id": "bDyl8YvbMYkC",
        "colab": {
          "base_uri": "https://localhost:8080/"
        },
        "outputId": "327e6b66-8b9d-4718-8ba9-416f56966f2a"
      },
      "source": [
        "IQR=Q3-Q1\n",
        "print(\"Inter Quartile Range: \",IQR)"
      ],
      "execution_count": null,
      "outputs": [
        {
          "output_type": "stream",
          "text": [
            "Inter Quartile Range:  9.25\n"
          ],
          "name": "stdout"
        }
      ]
    },
    {
      "cell_type": "markdown",
      "metadata": {
        "id": "G9Uh87t9LPlO"
      },
      "source": [
        "## Box Plots"
      ]
    },
    {
      "cell_type": "code",
      "metadata": {
        "colab": {
          "base_uri": "https://localhost:8080/",
          "height": 282
        },
        "id": "OiGd8_RkK_je",
        "outputId": "3d040f7e-8009-41d8-c650-cd44b51a8f8d"
      },
      "source": [
        "my_list = [1, 2, 2, 2, 4, 5, 6, 6, 6, 9, 10, 10, 10, 11, 14, 14, 15, 18,19, 20]\n",
        "\n",
        "# Convert the list to dataframe and add column name\n",
        "df = pd.DataFrame(my_list, columns=['Sample data'])\n",
        "\n",
        "# Plot using seaborm\n",
        "sns.boxplot(data=df)\n",
        "\n",
        "# Add ylabel\n",
        "plt.ylabel('Data points')"
      ],
      "execution_count": null,
      "outputs": [
        {
          "output_type": "execute_result",
          "data": {
            "text/plain": [
              "Text(0, 0.5, 'Data points')"
            ]
          },
          "metadata": {
            "tags": []
          },
          "execution_count": 44
        },
        {
          "output_type": "display_data",
          "data": {
            "image/png": "[encoded data removed]",
            "text/plain": [
              "<Figure size 432x288 with 1 Axes>"
            ]
          },
          "metadata": {
            "tags": [],
            "needs_background": "light"
          }
        }
      ]
    },
    {
      "cell_type": "code",
      "metadata": {
        "colab": {
          "base_uri": "https://localhost:8080/"
        },
        "id": "wZdy3GAWLj4S",
        "outputId": "4b42dceb-285a-4aa4-f616-461641e61a40"
      },
      "source": [
        "np.percentile(my_list, [25, 50, 75])"
      ],
      "execution_count": null,
      "outputs": [
        {
          "output_type": "execute_result",
          "data": {
            "text/plain": [
              "array([ 4.75,  9.5 , 14.  ])"
            ]
          },
          "metadata": {
            "tags": []
          },
          "execution_count": 45
        }
      ]
    },
    {
      "cell_type": "markdown",
      "metadata": {
        "id": "BWgik3RBO9-2"
      },
      "source": [
        "### **Using IQR to identify outliers**"
      ]
    },
    {
      "cell_type": "code",
      "metadata": {
        "id": "kYsLau6RPA6E"
      },
      "source": [
        "dummy_age = [20, 21, 24, 24, 28, 26, 19, 22, 26, 24, 21,\n",
        "            19, 22, 28, 29, 6, 100, 25, 25, 28, 31]\n",
        "dummy_height = [150, 151, 155, 153, 280, 160, 158, 157, 158, 145, 150,\n",
        "               155, 155, 151, 152, 153, 160, 152, 157, 157, 160, 153]\n",
        "dummy_df = pd.DataFrame(list(zip(dummy_age, dummy_height)),\n",
        "                        columns =['Age', 'Height(cm)'])"
      ],
      "execution_count": null,
      "outputs": []
    },
    {
      "cell_type": "code",
      "metadata": {
        "colab": {
          "base_uri": "https://localhost:8080/",
          "height": 696
        },
        "id": "u873aReuPHmL",
        "outputId": "c4416a48-e698-46c9-993e-9461af641913"
      },
      "source": [
        "dummy_df"
      ],
      "execution_count": null,
      "outputs": [
        {
          "output_type": "execute_result",
          "data": {
            "text/html": [
              "<div>\n",
              "<style scoped>\n",
              "    .dataframe tbody tr th:only-of-type {\n",
              "        vertical-align: middle;\n",
              "    }\n",
              "\n",
              "    .dataframe tbody tr th {\n",
              "        vertical-align: top;\n",
              "    }\n",
              "\n",
              "    .dataframe thead th {\n",
              "        text-align: right;\n",
              "    }\n",
              "</style>\n",
              "<table border=\"1\" class=\"dataframe\">\n",
              "  <thead>\n",
              "    <tr style=\"text-align: right;\">\n",
              "      <th></th>\n",
              "      <th>Age</th>\n",
              "      <th>Height(cm)</th>\n",
              "    </tr>\n",
              "  </thead>\n",
              "  <tbody>\n",
              "    <tr>\n",
              "      <th>0</th>\n",
              "      <td>20</td>\n",
              "      <td>150</td>\n",
              "    </tr>\n",
              "    <tr>\n",
              "      <th>1</th>\n",
              "      <td>21</td>\n",
              "      <td>151</td>\n",
              "    </tr>\n",
              "    <tr>\n",
              "      <th>2</th>\n",
              "      <td>24</td>\n",
              "      <td>155</td>\n",
              "    </tr>\n",
              "    <tr>\n",
              "      <th>3</th>\n",
              "      <td>24</td>\n",
              "      <td>153</td>\n",
              "    </tr>\n",
              "    <tr>\n",
              "      <th>4</th>\n",
              "      <td>28</td>\n",
              "      <td>280</td>\n",
              "    </tr>\n",
              "    <tr>\n",
              "      <th>5</th>\n",
              "      <td>26</td>\n",
              "      <td>160</td>\n",
              "    </tr>\n",
              "    <tr>\n",
              "      <th>6</th>\n",
              "      <td>19</td>\n",
              "      <td>158</td>\n",
              "    </tr>\n",
              "    <tr>\n",
              "      <th>7</th>\n",
              "      <td>22</td>\n",
              "      <td>157</td>\n",
              "    </tr>\n",
              "    <tr>\n",
              "      <th>8</th>\n",
              "      <td>26</td>\n",
              "      <td>158</td>\n",
              "    </tr>\n",
              "    <tr>\n",
              "      <th>9</th>\n",
              "      <td>24</td>\n",
              "      <td>145</td>\n",
              "    </tr>\n",
              "    <tr>\n",
              "      <th>10</th>\n",
              "      <td>21</td>\n",
              "      <td>150</td>\n",
              "    </tr>\n",
              "    <tr>\n",
              "      <th>11</th>\n",
              "      <td>19</td>\n",
              "      <td>155</td>\n",
              "    </tr>\n",
              "    <tr>\n",
              "      <th>12</th>\n",
              "      <td>22</td>\n",
              "      <td>155</td>\n",
              "    </tr>\n",
              "    <tr>\n",
              "      <th>13</th>\n",
              "      <td>28</td>\n",
              "      <td>151</td>\n",
              "    </tr>\n",
              "    <tr>\n",
              "      <th>14</th>\n",
              "      <td>29</td>\n",
              "      <td>152</td>\n",
              "    </tr>\n",
              "    <tr>\n",
              "      <th>15</th>\n",
              "      <td>6</td>\n",
              "      <td>153</td>\n",
              "    </tr>\n",
              "    <tr>\n",
              "      <th>16</th>\n",
              "      <td>100</td>\n",
              "      <td>160</td>\n",
              "    </tr>\n",
              "    <tr>\n",
              "      <th>17</th>\n",
              "      <td>25</td>\n",
              "      <td>152</td>\n",
              "    </tr>\n",
              "    <tr>\n",
              "      <th>18</th>\n",
              "      <td>25</td>\n",
              "      <td>157</td>\n",
              "    </tr>\n",
              "    <tr>\n",
              "      <th>19</th>\n",
              "      <td>28</td>\n",
              "      <td>157</td>\n",
              "    </tr>\n",
              "    <tr>\n",
              "      <th>20</th>\n",
              "      <td>31</td>\n",
              "      <td>160</td>\n",
              "    </tr>\n",
              "  </tbody>\n",
              "</table>\n",
              "</div>"
            ],
            "text/plain": [
              "    Age  Height(cm)\n",
              "0    20         150\n",
              "1    21         151\n",
              "2    24         155\n",
              "3    24         153\n",
              "4    28         280\n",
              "5    26         160\n",
              "6    19         158\n",
              "7    22         157\n",
              "8    26         158\n",
              "9    24         145\n",
              "10   21         150\n",
              "11   19         155\n",
              "12   22         155\n",
              "13   28         151\n",
              "14   29         152\n",
              "15    6         153\n",
              "16  100         160\n",
              "17   25         152\n",
              "18   25         157\n",
              "19   28         157\n",
              "20   31         160"
            ]
          },
          "metadata": {
            "tags": []
          },
          "execution_count": 5
        }
      ]
    },
    {
      "cell_type": "code",
      "metadata": {
        "id": "DiwQyWjtPIJH"
      },
      "source": [
        "def get_lower_upper_bound(my_data):\n",
        "    # Get first and third quartile\n",
        "    q1 = np.percentile(my_data, 25)\n",
        "    q3 = np.percentile(my_data, 75)\n",
        "    \n",
        "    # Calculate Interquartile range\n",
        "    iqr = q3 - q1\n",
        "    \n",
        "    # Compute lower and upper bound\n",
        "    lower_bound = q1 - (iqr * 1.5)\n",
        "    upper_bound = q3 + (iqr * 1.5)\n",
        "    \n",
        "    return lower_bound, upper_bound"
      ],
      "execution_count": null,
      "outputs": []
    },
    {
      "cell_type": "code",
      "metadata": {
        "id": "_83UbHB-POQm"
      },
      "source": [
        "def get_outliers_iqr(my_data):\n",
        "    lower_bound, upper_bound = get_lower_upper_bound(my_data)\n",
        "    # Filter data less than lower bound and more than upper bound\n",
        "    return my_data[np.where((my_data > upper_bound) |\n",
        "                            (my_data < lower_bound))]"
      ],
      "execution_count": null,
      "outputs": []
    },
    {
      "cell_type": "code",
      "metadata": {
        "colab": {
          "base_uri": "https://localhost:8080/"
        },
        "id": "BbifhK_nPQiS",
        "outputId": "3390aa8f-db7a-4c8e-9b48-eb835a8b5f1e"
      },
      "source": [
        "\n",
        "get_outliers_iqr(dummy_df['Age'].values)"
      ],
      "execution_count": null,
      "outputs": [
        {
          "output_type": "execute_result",
          "data": {
            "text/plain": [
              "array([  6, 100])"
            ]
          },
          "metadata": {
            "tags": []
          },
          "execution_count": 49
        }
      ]
    },
    {
      "cell_type": "code",
      "metadata": {
        "colab": {
          "base_uri": "https://localhost:8080/"
        },
        "id": "S_MomuKUPSfy",
        "outputId": "0e4ead09-9038-4928-f970-20dd6ec9a24f"
      },
      "source": [
        "get_outliers_iqr(dummy_df['Height(cm)'].values)"
      ],
      "execution_count": null,
      "outputs": [
        {
          "output_type": "execute_result",
          "data": {
            "text/plain": [
              "array([280])"
            ]
          },
          "metadata": {
            "tags": []
          },
          "execution_count": 50
        }
      ]
    },
    {
      "cell_type": "code",
      "metadata": {
        "colab": {
          "base_uri": "https://localhost:8080/",
          "height": 282
        },
        "id": "uu4sPmXGPUSz",
        "outputId": "85dcdc7d-dc81-4810-9c8e-27157f3022be"
      },
      "source": [
        "dummy_df.boxplot(column=['Age'])"
      ],
      "execution_count": null,
      "outputs": [
        {
          "output_type": "execute_result",
          "data": {
            "text/plain": [
              "<matplotlib.axes._subplots.AxesSubplot at 0x7f92b5e0a950>"
            ]
          },
          "metadata": {
            "tags": []
          },
          "execution_count": 51
        },
        {
          "output_type": "display_data",
          "data": {
            "image/png": "[encoded data removed]",
            "text/plain": [
              "<Figure size 432x288 with 1 Axes>"
            ]
          },
          "metadata": {
            "tags": [],
            "needs_background": "light"
          }
        }
      ]
    },
    {
      "cell_type": "code",
      "metadata": {
        "colab": {
          "base_uri": "https://localhost:8080/",
          "height": 282
        },
        "id": "grtyVvCRPWS8",
        "outputId": "7632f5f0-dfb7-48cf-91a8-1b29cef7a15b"
      },
      "source": [
        "dummy_df.boxplot(column=['Height(cm)'])"
      ],
      "execution_count": null,
      "outputs": [
        {
          "output_type": "execute_result",
          "data": {
            "text/plain": [
              "<matplotlib.axes._subplots.AxesSubplot at 0x7f92b5e4ef90>"
            ]
          },
          "metadata": {
            "tags": []
          },
          "execution_count": 52
        },
        {
          "output_type": "display_data",
          "data": {
            "image/png": "[encoded data removed]",
            "text/plain": [
              "<Figure size 432x288 with 1 Axes>"
            ]
          },
          "metadata": {
            "tags": [],
            "needs_background": "light"
          }
        }
      ]
    },
    {
      "cell_type": "markdown",
      "metadata": {
        "id": "IIVK3IS0HnMi"
      },
      "source": [
        "### **Find the Outliers using Z score**\n",
        "\n",
        "[Click here](https://www.statisticshowto.com/probability-and-statistics/z-score/) to read about What is Z score??\n",
        "\n",
        "[Click here ](https://medium.com/clarusway/z-score-and-how-its-used-to-determine-an-outlier-642110f3b482)to read about outlier detection using Z score"
      ]
    },
    {
      "cell_type": "code",
      "metadata": {
        "id": "p1qegfHYPaUL"
      },
      "source": [
        "import matplotlib.pyplot as plt \n",
        "import numpy as np \n",
        "import pandas as pd \n",
        "import seaborn as sns\n",
        "from scipy import stats "
      ],
      "execution_count": null,
      "outputs": []
    },
    {
      "cell_type": "code",
      "metadata": {
        "colab": {
          "base_uri": "https://localhost:8080/"
        },
        "id": "nEFsMFuG9gR3",
        "outputId": "362acd9c-43f6-4665-9e92-967f5cfbf1b6"
      },
      "source": [
        "mu, sigma = 100, 5\n",
        "array = np.random.normal(mu, sigma, 200)\n",
        "array"
      ],
      "execution_count": null,
      "outputs": [
        {
          "output_type": "execute_result",
          "data": {
            "text/plain": [
              "array([ 94.0156668 , 103.66197786, 100.65729117, 103.93969415,\n",
              "        91.26858763, 100.93310317, 104.06398664, 109.0113577 ,\n",
              "       101.63623481,  99.65019916, 105.83238593, 100.85753743,\n",
              "        93.86243967, 101.78696103, 104.58722503, 105.76339591,\n",
              "       100.91763319,  97.98869695, 100.2132809 ,  98.80128654,\n",
              "        94.84618744, 100.10068567,  98.05935983, 102.15056023,\n",
              "        95.15921661, 103.430578  , 105.83576281, 100.58977237,\n",
              "       104.80176221,  97.08845183,  98.78287266, 104.45219958,\n",
              "        95.73567147,  97.60807205, 109.71853865,  98.26706579,\n",
              "        93.20911392,  90.79765587, 106.13371062, 103.45118934,\n",
              "        96.47299226, 101.71736327, 102.71613669,  93.6986369 ,\n",
              "        97.16920296, 102.70314232, 112.42437581, 100.75340048,\n",
              "       100.63677234,  95.07707708, 105.3456748 ,  95.97059153,\n",
              "        98.78730377, 108.60973871,  97.50208165, 103.58671748,\n",
              "        95.13192842,  99.27524367, 105.41259216,  95.71503561,\n",
              "       104.31136584,  99.87941763,  91.12287621,  98.82851028,\n",
              "       105.87457464,  92.80869001, 102.55081441, 107.97808204,\n",
              "        87.54413501,  90.1686494 ,  93.24561036, 107.74203203,\n",
              "        94.5941298 , 112.95919686, 101.5275923 , 100.03854286,\n",
              "       101.21267144, 102.02738305,  96.226693  , 110.05335791,\n",
              "       104.51831117, 100.93955559,  95.37341838, 100.83896633,\n",
              "        98.7257201 , 108.14478053, 105.81192646,  96.5726872 ,\n",
              "        96.9175741 , 108.10795711, 101.43077447, 106.57842244,\n",
              "       101.11219915,  94.98802895,  99.43624351,  92.23809712,\n",
              "       104.56483398,  93.0139866 , 103.23951282, 101.824239  ,\n",
              "       102.65013148,  94.44143606,  96.66516258, 108.16272459,\n",
              "        97.91727469, 100.68144519,  99.13398716, 109.06497197,\n",
              "        92.95127524, 104.72015524, 101.47516054, 101.68780012,\n",
              "        92.308796  ,  86.52221775, 101.93899321,  98.44707557,\n",
              "        97.05786794,  95.01311109, 100.34843942, 101.63264772,\n",
              "       103.15608903, 101.49173659,  95.40060864, 101.03463234,\n",
              "       101.99070147, 108.77968573,  92.38688708, 105.63166688,\n",
              "       104.23755884, 102.18280907, 105.40489516,  96.10442416,\n",
              "       100.38423982, 105.92440243,  90.97845094, 106.98733927,\n",
              "       105.89913889, 102.16559198,  99.30559868,  99.8612596 ,\n",
              "        98.88153528,  85.80116182,  96.2134786 , 101.04286524,\n",
              "        94.78719332,  96.86801557, 107.65256222, 104.99737962,\n",
              "       104.97834786, 100.29722379, 100.80178501,  98.42215637,\n",
              "        95.40418758,  99.83157823, 110.52019825, 101.89938174,\n",
              "       107.29124132,  95.97050831, 100.41000473,  96.46249434,\n",
              "       102.37239969,  95.61147563, 108.37487154, 102.24909847,\n",
              "       103.00707307, 103.55136576, 103.44784388,  97.4975715 ,\n",
              "        95.66629483,  99.91536937, 103.39505125, 105.34544811,\n",
              "        99.01063586,  94.52519553, 100.02555395,  93.72025347,\n",
              "        99.58162575, 105.29855385,  99.76314652,  89.00357082,\n",
              "        98.42304113,  89.41577088,  95.67551988,  97.82634831,\n",
              "       103.42573303, 102.35534152, 105.03127337,  96.68914283,\n",
              "        98.17627335, 105.02312429,  97.22300796, 103.23525793,\n",
              "       101.76078506,  96.39745726,  92.90186343,  99.06876937,\n",
              "        99.31898676,  98.426626  ,  90.03167563, 109.88593048])"
            ]
          },
          "metadata": {
            "tags": []
          },
          "execution_count": 54
        }
      ]
    },
    {
      "cell_type": "code",
      "metadata": {
        "colab": {
          "base_uri": "https://localhost:8080/",
          "height": 265
        },
        "id": "ChUD6gWa9kAu",
        "outputId": "1c3d6139-279d-4446-ffe7-1b0c7fa6ec91"
      },
      "source": [
        "sns.histplot(array)\n",
        "plt.show()"
      ],
      "execution_count": null,
      "outputs": [
        {
          "output_type": "display_data",
          "data": {
            "image/png": "[encoded data removed]",
            "text/plain": [
              "<Figure size 432x288 with 1 Axes>"
            ]
          },
          "metadata": {
            "tags": [],
            "needs_background": "light"
          }
        }
      ]
    },
    {
      "cell_type": "code",
      "metadata": {
        "id": "BCq-q2zf9pSI"
      },
      "source": [
        "array[90] = 180\n",
        "array[50] = -40"
      ],
      "execution_count": null,
      "outputs": []
    },
    {
      "cell_type": "code",
      "metadata": {
        "colab": {
          "base_uri": "https://localhost:8080/",
          "height": 265
        },
        "id": "mPJrCNz49rvF",
        "outputId": "a804b6cd-65a5-4c09-8d4f-e6590904ab7f"
      },
      "source": [
        "sns.histplot(array)\n",
        "plt.show()"
      ],
      "execution_count": null,
      "outputs": [
        {
          "output_type": "display_data",
          "data": {
            "image/png": "[encoded data removed]",
            "text/plain": [
              "<Figure size 432x288 with 1 Axes>"
            ]
          },
          "metadata": {
            "tags": [],
            "needs_background": "light"
          }
        }
      ]
    },
    {
      "cell_type": "code",
      "metadata": {
        "colab": {
          "base_uri": "https://localhost:8080/",
          "height": 203
        },
        "id": "mhkd1z-F9upy",
        "outputId": "ee2ce9e1-3620-4a14-945d-7f43a769766a"
      },
      "source": [
        "df = pd.DataFrame(array, columns=[\"Data\"]) \n",
        "df.head()"
      ],
      "execution_count": null,
      "outputs": [
        {
          "output_type": "execute_result",
          "data": {
            "text/html": [
              "<div>\n",
              "<style scoped>\n",
              "    .dataframe tbody tr th:only-of-type {\n",
              "        vertical-align: middle;\n",
              "    }\n",
              "\n",
              "    .dataframe tbody tr th {\n",
              "        vertical-align: top;\n",
              "    }\n",
              "\n",
              "    .dataframe thead th {\n",
              "        text-align: right;\n",
              "    }\n",
              "</style>\n",
              "<table border=\"1\" class=\"dataframe\">\n",
              "  <thead>\n",
              "    <tr style=\"text-align: right;\">\n",
              "      <th></th>\n",
              "      <th>Data</th>\n",
              "    </tr>\n",
              "  </thead>\n",
              "  <tbody>\n",
              "    <tr>\n",
              "      <th>0</th>\n",
              "      <td>94.015667</td>\n",
              "    </tr>\n",
              "    <tr>\n",
              "      <th>1</th>\n",
              "      <td>103.661978</td>\n",
              "    </tr>\n",
              "    <tr>\n",
              "      <th>2</th>\n",
              "      <td>100.657291</td>\n",
              "    </tr>\n",
              "    <tr>\n",
              "      <th>3</th>\n",
              "      <td>103.939694</td>\n",
              "    </tr>\n",
              "    <tr>\n",
              "      <th>4</th>\n",
              "      <td>91.268588</td>\n",
              "    </tr>\n",
              "  </tbody>\n",
              "</table>\n",
              "</div>"
            ],
            "text/plain": [
              "         Data\n",
              "0   94.015667\n",
              "1  103.661978\n",
              "2  100.657291\n",
              "3  103.939694\n",
              "4   91.268588"
            ]
          },
          "metadata": {
            "tags": []
          },
          "execution_count": 58
        }
      ]
    },
    {
      "cell_type": "code",
      "metadata": {
        "colab": {
          "base_uri": "https://localhost:8080/",
          "height": 203
        },
        "id": "yuF_wnLh93tg",
        "outputId": "78193d53-2fff-4784-b990-4e053fbd6a8c"
      },
      "source": [
        "for col in df.columns:\n",
        "    col_zscore = col + \"_zscore\"\n",
        "    df[col_zscore] = (df[col] - df[col].mean())/df[col].std(ddof=0)\n",
        "df.head()"
      ],
      "execution_count": null,
      "outputs": [
        {
          "output_type": "execute_result",
          "data": {
            "text/html": [
              "<div>\n",
              "<style scoped>\n",
              "    .dataframe tbody tr th:only-of-type {\n",
              "        vertical-align: middle;\n",
              "    }\n",
              "\n",
              "    .dataframe tbody tr th {\n",
              "        vertical-align: top;\n",
              "    }\n",
              "\n",
              "    .dataframe thead th {\n",
              "        text-align: right;\n",
              "    }\n",
              "</style>\n",
              "<table border=\"1\" class=\"dataframe\">\n",
              "  <thead>\n",
              "    <tr style=\"text-align: right;\">\n",
              "      <th></th>\n",
              "      <th>Data</th>\n",
              "      <th>Data_zscore</th>\n",
              "    </tr>\n",
              "  </thead>\n",
              "  <tbody>\n",
              "    <tr>\n",
              "      <th>0</th>\n",
              "      <td>94.015667</td>\n",
              "      <td>-0.466700</td>\n",
              "    </tr>\n",
              "    <tr>\n",
              "      <th>1</th>\n",
              "      <td>103.661978</td>\n",
              "      <td>0.305600</td>\n",
              "    </tr>\n",
              "    <tr>\n",
              "      <th>2</th>\n",
              "      <td>100.657291</td>\n",
              "      <td>0.065040</td>\n",
              "    </tr>\n",
              "    <tr>\n",
              "      <th>3</th>\n",
              "      <td>103.939694</td>\n",
              "      <td>0.327834</td>\n",
              "    </tr>\n",
              "    <tr>\n",
              "      <th>4</th>\n",
              "      <td>91.268588</td>\n",
              "      <td>-0.686635</td>\n",
              "    </tr>\n",
              "  </tbody>\n",
              "</table>\n",
              "</div>"
            ],
            "text/plain": [
              "         Data  Data_zscore\n",
              "0   94.015667    -0.466700\n",
              "1  103.661978     0.305600\n",
              "2  100.657291     0.065040\n",
              "3  103.939694     0.327834\n",
              "4   91.268588    -0.686635"
            ]
          },
          "metadata": {
            "tags": []
          },
          "execution_count": 59
        }
      ]
    },
    {
      "cell_type": "code",
      "metadata": {
        "id": "qdZxALKX97Rh"
      },
      "source": [
        "df[\"outlier\"] = (abs(df[\"Data_zscore\"])>3).astype(int)"
      ],
      "execution_count": null,
      "outputs": []
    },
    {
      "cell_type": "code",
      "metadata": {
        "colab": {
          "base_uri": "https://localhost:8080/",
          "height": 203
        },
        "id": "iKDbivUd9-tR",
        "outputId": "c5bebe4e-efd6-43e1-8869-a0f514d844c4"
      },
      "source": [
        "df.tail()"
      ],
      "execution_count": null,
      "outputs": [
        {
          "output_type": "execute_result",
          "data": {
            "text/html": [
              "<div>\n",
              "<style scoped>\n",
              "    .dataframe tbody tr th:only-of-type {\n",
              "        vertical-align: middle;\n",
              "    }\n",
              "\n",
              "    .dataframe tbody tr th {\n",
              "        vertical-align: top;\n",
              "    }\n",
              "\n",
              "    .dataframe thead th {\n",
              "        text-align: right;\n",
              "    }\n",
              "</style>\n",
              "<table border=\"1\" class=\"dataframe\">\n",
              "  <thead>\n",
              "    <tr style=\"text-align: right;\">\n",
              "      <th></th>\n",
              "      <th>Data</th>\n",
              "      <th>Data_zscore</th>\n",
              "      <th>outlier</th>\n",
              "    </tr>\n",
              "  </thead>\n",
              "  <tbody>\n",
              "    <tr>\n",
              "      <th>195</th>\n",
              "      <td>99.068769</td>\n",
              "      <td>-0.062140</td>\n",
              "      <td>0</td>\n",
              "    </tr>\n",
              "    <tr>\n",
              "      <th>196</th>\n",
              "      <td>99.318987</td>\n",
              "      <td>-0.042107</td>\n",
              "      <td>0</td>\n",
              "    </tr>\n",
              "    <tr>\n",
              "      <th>197</th>\n",
              "      <td>98.426626</td>\n",
              "      <td>-0.113551</td>\n",
              "      <td>0</td>\n",
              "    </tr>\n",
              "    <tr>\n",
              "      <th>198</th>\n",
              "      <td>90.031676</td>\n",
              "      <td>-0.785665</td>\n",
              "      <td>0</td>\n",
              "    </tr>\n",
              "    <tr>\n",
              "      <th>199</th>\n",
              "      <td>109.885930</td>\n",
              "      <td>0.803899</td>\n",
              "      <td>0</td>\n",
              "    </tr>\n",
              "  </tbody>\n",
              "</table>\n",
              "</div>"
            ],
            "text/plain": [
              "           Data  Data_zscore  outlier\n",
              "195   99.068769    -0.062140        0\n",
              "196   99.318987    -0.042107        0\n",
              "197   98.426626    -0.113551        0\n",
              "198   90.031676    -0.785665        0\n",
              "199  109.885930     0.803899        0"
            ]
          },
          "metadata": {
            "tags": []
          },
          "execution_count": 61
        }
      ]
    },
    {
      "cell_type": "code",
      "metadata": {
        "colab": {
          "base_uri": "https://localhost:8080/",
          "height": 110
        },
        "id": "qtF7dJzA-CJj",
        "outputId": "8929219a-b234-4e22-c3af-822e50553be6"
      },
      "source": [
        "df.loc[df.outlier == 1]"
      ],
      "execution_count": null,
      "outputs": [
        {
          "output_type": "execute_result",
          "data": {
            "text/html": [
              "<div>\n",
              "<style scoped>\n",
              "    .dataframe tbody tr th:only-of-type {\n",
              "        vertical-align: middle;\n",
              "    }\n",
              "\n",
              "    .dataframe tbody tr th {\n",
              "        vertical-align: top;\n",
              "    }\n",
              "\n",
              "    .dataframe thead th {\n",
              "        text-align: right;\n",
              "    }\n",
              "</style>\n",
              "<table border=\"1\" class=\"dataframe\">\n",
              "  <thead>\n",
              "    <tr style=\"text-align: right;\">\n",
              "      <th></th>\n",
              "      <th>Data</th>\n",
              "      <th>Data_zscore</th>\n",
              "      <th>outlier</th>\n",
              "    </tr>\n",
              "  </thead>\n",
              "  <tbody>\n",
              "    <tr>\n",
              "      <th>50</th>\n",
              "      <td>-40.0</td>\n",
              "      <td>-11.196212</td>\n",
              "      <td>1</td>\n",
              "    </tr>\n",
              "    <tr>\n",
              "      <th>90</th>\n",
              "      <td>180.0</td>\n",
              "      <td>6.417346</td>\n",
              "      <td>1</td>\n",
              "    </tr>\n",
              "  </tbody>\n",
              "</table>\n",
              "</div>"
            ],
            "text/plain": [
              "     Data  Data_zscore  outlier\n",
              "50  -40.0   -11.196212        1\n",
              "90  180.0     6.417346        1"
            ]
          },
          "metadata": {
            "tags": []
          },
          "execution_count": 62
        }
      ]
    },
    {
      "cell_type": "code",
      "metadata": {
        "colab": {
          "base_uri": "https://localhost:8080/"
        },
        "id": "l_2-0fPu-GBC",
        "outputId": "a7b9a41b-44b2-4a4b-f5ab-13e14916a425"
      },
      "source": [
        "(df.outlier.value_counts())"
      ],
      "execution_count": null,
      "outputs": [
        {
          "output_type": "execute_result",
          "data": {
            "text/plain": [
              "0    198\n",
              "1      2\n",
              "Name: outlier, dtype: int64"
            ]
          },
          "metadata": {
            "tags": []
          },
          "execution_count": 63
        }
      ]
    },
    {
      "cell_type": "code",
      "metadata": {
        "colab": {
          "base_uri": "https://localhost:8080/"
        },
        "id": "jiKQkE5G-Jez",
        "outputId": "7a81c735-03e1-42b8-b1ac-130266db7c03"
      },
      "source": [
        "print(\"number of outliers = \" + str(df.outlier.value_counts()[1]))"
      ],
      "execution_count": null,
      "outputs": [
        {
          "output_type": "stream",
          "text": [
            "number of outliers = 2\n"
          ],
          "name": "stdout"
        }
      ]
    },
    {
      "cell_type": "code",
      "metadata": {
        "id": "4zrmKCnM-Ntf"
      },
      "source": [
        "def outlier_inspect(df, col, min_z=1, max_z = 5, step = 0.2, max_hist = None, bins = 50):\n",
        "    fig = plt.figure(figsize=(20, 6))\n",
        "    fig.suptitle(col, fontsize=16)\n",
        "    plt.subplot(1,3,1)\n",
        "    if max_hist == None:\n",
        "        sns.histplot(df[col], kde=False, bins = 50,color=\"r\")\n",
        "    else :\n",
        "        sns.distplot(df[df[col]<=max_hist][col], kde=False, bins = 50)\n",
        "    plt.subplot(1,3,2)\n",
        "    sns.boxplot(df[col])\n",
        "    plt.subplot(1,3,3)\n",
        "    z_score_inspect = outlier_zscore(df, col, min_z=min_z, max_z = max_z, step = step)\n",
        "    plt.show()"
      ],
      "execution_count": null,
      "outputs": []
    },
    {
      "cell_type": "code",
      "metadata": {
        "id": "_F6wM_DN-aCy"
      },
      "source": [
        "def outlier_zscore(df, col, min_z=1, max_z = 5, step = 0.1, print_list = False):\n",
        "    z_scores = df[\"Data_zscore\"]\n",
        "    threshold_list = []\n",
        "    for threshold in np.arange(min_z, max_z, step):\n",
        "        threshold_list.append((threshold, len(np.where(z_scores > threshold)[0])))\n",
        "        df_outlier = pd.DataFrame(threshold_list, columns = ['threshold', 'outlier_count'])\n",
        "        df_outlier['pct'] = (df_outlier.outlier_count - df_outlier.outlier_count.shift(-1))/df_outlier.outlier_count*100\n",
        "    plt.plot(df_outlier.threshold, df_outlier.outlier_count)\n",
        "    best_treshold = round(df_outlier.iloc[df_outlier.pct.argmax(), 0],2)\n",
        "    outlier_limit = int(df[col].dropna().mean() + (df[col].dropna().std()) * df_outlier.iloc[df_outlier.pct.argmax(), 0])\n",
        "    percentile_threshold = stats.percentileofscore(df[col].dropna(), outlier_limit)\n",
        "    plt.vlines(best_treshold, 0, df_outlier.outlier_count.max(), \n",
        "               colors=\"r\", ls = \":\"\n",
        "              )\n",
        "    plt.annotate(\"Zscore : {}\\nValue : {}\\nPercentile : {}\".format(best_treshold, outlier_limit, \n",
        "                                                                   (np.round(percentile_threshold, 3), \n",
        "                                                                    np.round(100-percentile_threshold, 3))), \n",
        "                 (best_treshold, df_outlier.outlier_count.max()/2))\n",
        "    #plt.show()\n",
        "    if print_list:\n",
        "        print(df_outlier)\n",
        "    return (plt, df_outlier, best_treshold, outlier_limit, percentile_threshold)"
      ],
      "execution_count": null,
      "outputs": []
    },
    {
      "cell_type": "code",
      "metadata": {
        "colab": {
          "base_uri": "https://localhost:8080/",
          "height": 485
        },
        "id": "bzVPR36J-dwb",
        "outputId": "ca0d7470-f20b-4356-d0f4-146f79db6e54"
      },
      "source": [
        "outlier_inspect(df,\"Data\")"
      ],
      "execution_count": null,
      "outputs": [
        {
          "output_type": "stream",
          "text": [
            "/usr/local/lib/python3.7/dist-packages/seaborn/_decorators.py:43: FutureWarning: Pass the following variable as a keyword arg: x. From version 0.12, the only valid positional argument will be `data`, and passing other arguments without an explicit keyword will result in an error or misinterpretation.\n",
            "  FutureWarning\n"
          ],
          "name": "stderr"
        },
        {
          "output_type": "display_data",
          "data": {
            "image/png": "[encoded data removed]",
            "text/plain": [
              "<Figure size 1440x432 with 3 Axes>"
            ]
          },
          "metadata": {
            "tags": [],
            "needs_background": "light"
          }
        }
      ]
    },
    {
      "cell_type": "code",
      "metadata": {
        "colab": {
          "base_uri": "https://localhost:8080/",
          "height": 234
        },
        "id": "pWf4658K-h2m",
        "outputId": "7444749c-4a4e-4650-8a14-b884c07bb5de"
      },
      "source": [
        "df[\"outlier\"] = (abs(df[\"Data_zscore\"])>1).astype(int)\n",
        "\n",
        "df.loc[df.outlier == 1]"
      ],
      "execution_count": null,
      "outputs": [
        {
          "output_type": "execute_result",
          "data": {
            "text/html": [
              "<div>\n",
              "<style scoped>\n",
              "    .dataframe tbody tr th:only-of-type {\n",
              "        vertical-align: middle;\n",
              "    }\n",
              "\n",
              "    .dataframe tbody tr th {\n",
              "        vertical-align: top;\n",
              "    }\n",
              "\n",
              "    .dataframe thead th {\n",
              "        text-align: right;\n",
              "    }\n",
              "</style>\n",
              "<table border=\"1\" class=\"dataframe\">\n",
              "  <thead>\n",
              "    <tr style=\"text-align: right;\">\n",
              "      <th></th>\n",
              "      <th>Data</th>\n",
              "      <th>Data_zscore</th>\n",
              "      <th>outlier</th>\n",
              "    </tr>\n",
              "  </thead>\n",
              "  <tbody>\n",
              "    <tr>\n",
              "      <th>46</th>\n",
              "      <td>112.424376</td>\n",
              "      <td>1.007131</td>\n",
              "      <td>1</td>\n",
              "    </tr>\n",
              "    <tr>\n",
              "      <th>50</th>\n",
              "      <td>-40.000000</td>\n",
              "      <td>-11.196212</td>\n",
              "      <td>1</td>\n",
              "    </tr>\n",
              "    <tr>\n",
              "      <th>73</th>\n",
              "      <td>112.959197</td>\n",
              "      <td>1.049950</td>\n",
              "      <td>1</td>\n",
              "    </tr>\n",
              "    <tr>\n",
              "      <th>90</th>\n",
              "      <td>180.000000</td>\n",
              "      <td>6.417346</td>\n",
              "      <td>1</td>\n",
              "    </tr>\n",
              "    <tr>\n",
              "      <th>113</th>\n",
              "      <td>86.522218</td>\n",
              "      <td>-1.066637</td>\n",
              "      <td>1</td>\n",
              "    </tr>\n",
              "    <tr>\n",
              "      <th>141</th>\n",
              "      <td>85.801162</td>\n",
              "      <td>-1.124366</td>\n",
              "      <td>1</td>\n",
              "    </tr>\n",
              "  </tbody>\n",
              "</table>\n",
              "</div>"
            ],
            "text/plain": [
              "           Data  Data_zscore  outlier\n",
              "46   112.424376     1.007131        1\n",
              "50   -40.000000   -11.196212        1\n",
              "73   112.959197     1.049950        1\n",
              "90   180.000000     6.417346        1\n",
              "113   86.522218    -1.066637        1\n",
              "141   85.801162    -1.124366        1"
            ]
          },
          "metadata": {
            "tags": []
          },
          "execution_count": 70
        }
      ]
    },
    {
      "cell_type": "code",
      "metadata": {
        "colab": {
          "base_uri": "https://localhost:8080/",
          "height": 279
        },
        "id": "hxQsUNVt-lCR",
        "outputId": "898ea0c9-333a-4a77-946d-d5f23572dac3"
      },
      "source": [
        "df=df.loc[df.outlier == 0]\n",
        "\n",
        "sns.histplot(df[\"Data\"])\n",
        "\n",
        "plt.show()"
      ],
      "execution_count": null,
      "outputs": [
        {
          "output_type": "display_data",
          "data": {
            "image/png": "[encoded data removed]",
            "text/plain": [
              "<Figure size 432x288 with 1 Axes>"
            ]
          },
          "metadata": {
            "tags": [],
            "needs_background": "light"
          }
        }
      ]
    }
  ]
}